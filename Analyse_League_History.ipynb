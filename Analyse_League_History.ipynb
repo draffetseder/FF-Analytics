{
 "cells": [
  {
   "cell_type": "code",
   "execution_count": null,
   "metadata": {
    "collapsed": true
   },
   "outputs": [],
   "source": [
    "import pandas as pd"
   ]
  },
  {
   "cell_type": "code",
   "execution_count": null,
   "outputs": [],
   "source": [
    "history_folder = \"./League-History\"\n",
    "results_folder = \"./analysis_results\"\n",
    "\n",
    "# merge all the csv files from the subfolders into one dataframe, introducing a new column the folder and file name\n",
    "\n",
    "df = pd.DataFrame()\n",
    "for year in range(2015, 2023):\n",
    "    for week in range(1, 18):\n",
    "        try:\n",
    "            df_temp = pd.read_csv(f'{history_folder}/{year}/{week}.csv')\n",
    "            df_temp['year'] = year\n",
    "            df_temp['week'] = week\n",
    "\n",
    "            df = pd.concat([df, df_temp], ignore_index=True)\n",
    "\n",
    "        except:\n",
    "            pass\n",
    "\n",
    "df"
   ],
   "metadata": {
    "collapsed": false
   }
  },
  {
   "cell_type": "code",
   "execution_count": null,
   "outputs": [],
   "source": [
    "# remove by weeks (where Opponent is '-')\n",
    "df = df[df['Opponent'] != '-']"
   ],
   "metadata": {
    "collapsed": false
   }
  },
  {
   "cell_type": "code",
   "execution_count": null,
   "outputs": [],
   "source": [
    "# handle league-specific preprocessing\n",
    "# comment out the line below if you don't have utils.league_utils\n",
    "from utils.league_utils import LeagueUtils\n",
    "\n",
    "df = LeagueUtils.preprocess_league(df)"
   ],
   "metadata": {
    "collapsed": false
   }
  },
  {
   "cell_type": "code",
   "execution_count": null,
   "outputs": [],
   "source": [
    "df['win'] = df['Total'] > df['Opponent Total']\n",
    "df['loss'] = df['Total'] < df['Opponent Total']\n",
    "df['tie'] = df['Total'] == df['Opponent Total']"
   ],
   "metadata": {
    "collapsed": false
   }
  },
  {
   "cell_type": "code",
   "execution_count": null,
   "outputs": [],
   "source": [
    "df.groupby(['year']).mean()['Total'].plot(kind='bar', title='Average Points Per Year')"
   ],
   "metadata": {
    "collapsed": false
   }
  },
  {
   "cell_type": "code",
   "execution_count": null,
   "outputs": [],
   "source": [
    "df.groupby(['week']).mean()['Total'].plot(kind='bar', title='Average Points Per Week')"
   ],
   "metadata": {
    "collapsed": false
   }
  },
  {
   "cell_type": "code",
   "execution_count": null,
   "outputs": [],
   "source": [
    "df[df['week'] > 2].groupby(['Owner'])['Rank'].mean().sort_values(ascending=False).plot(kind='barh', title='Average League Rank Per Week (after week 2)')"
   ],
   "metadata": {
    "collapsed": false
   }
  },
  {
   "cell_type": "code",
   "execution_count": null,
   "outputs": [],
   "source": [
    "owners_df = df.groupby(['Owner'])['Owner', 'win', 'loss', 'tie', 'Total', 'Opponent Total'].sum()\n",
    "\n",
    "owners_df['games'] = owners_df['win'] + owners_df['loss'] + owners_df['tie']\n",
    "number_of_games_threshold = 20\n",
    "owners_df = owners_df[owners_df['games'] > number_of_games_threshold]\n",
    "\n",
    "# calculate win percentage and points per game\n",
    "owners_df['win_pct'] = owners_df['win'] / owners_df['games']\n",
    "owners_df['ppg'] = owners_df['Total'] / owners_df['games']\n",
    "owners_df['opp_ppg'] = owners_df['Opponent Total'] / owners_df['games']\n",
    "\n",
    "# save to excel\n",
    "owners_df.to_excel(f'{results_folder}/Owners.xlsx')\n",
    "owners_df"
   ],
   "metadata": {
    "collapsed": false
   }
  },
  {
   "cell_type": "markdown",
   "source": [
    "Various plots about owner stats"
   ],
   "metadata": {
    "collapsed": false
   }
  },
  {
   "cell_type": "code",
   "execution_count": null,
   "outputs": [],
   "source": [
    "ax = owners_df['win_pct'].sort_values().plot(kind='barh', title='Win Percentage')\n",
    "_ = ax.set_yticklabels(owners_df['win_pct'].sort_values().index)"
   ],
   "metadata": {
    "collapsed": false
   }
  },
  {
   "cell_type": "code",
   "execution_count": null,
   "outputs": [],
   "source": [
    "ax = owners_df['win'].sort_values().plot(kind='barh', title='Total Wins')\n",
    "_ = ax.set_yticklabels(owners_df['win'].sort_values().index)"
   ],
   "metadata": {
    "collapsed": false
   }
  },
  {
   "cell_type": "code",
   "execution_count": null,
   "outputs": [],
   "source": [
    "# maybe skewed by half-PPR vs. non-PPR era\n",
    "ax = owners_df['ppg'].sort_values().plot(kind='barh', title='Points Per Game')\n",
    "_ = ax.set_yticklabels(owners_df['ppg'].sort_values().index)"
   ],
   "metadata": {
    "collapsed": false
   }
  },
  {
   "cell_type": "code",
   "execution_count": null,
   "outputs": [],
   "source": [
    "ax = owners_df['opp_ppg'].sort_values().plot(kind='barh', title='Opponent Points Per Game')\n",
    "_ = ax.set_yticklabels(owners_df['opp_ppg'].sort_values().index)"
   ],
   "metadata": {
    "collapsed": false
   }
  },
  {
   "cell_type": "code",
   "execution_count": null,
   "outputs": [],
   "source": [
    "# get head-to-head matchup records\n",
    "h2h = pd.DataFrame(df.groupby(['Owner', 'Opponent_Owner'])['Owner', 'Opponent_Owner', 'win', 'loss', 'tie', 'Total', 'Opponent Total'].sum()).reset_index()\n",
    "h2h"
   ],
   "metadata": {
    "collapsed": false
   }
  },
  {
   "cell_type": "code",
   "execution_count": null,
   "outputs": [],
   "source": [
    "h2h['games'] = h2h['win'] + h2h['loss'] + h2h['tie']\n",
    "h2h_number_of_games_threshold = 3\n",
    "h2h = h2h[h2h['games'] > h2h_number_of_games_threshold]\n",
    "\n",
    "h2h['win_pct'] = h2h['win'] / h2h['games']\n",
    "h2h['win_diff'] = h2h['win'] - h2h['loss']\n",
    "h2h['ppg'] = h2h['Total'] / h2h['games']\n",
    "h2h['opp_ppg'] = h2h['Opponent Total'] / h2h['games']\n",
    "\n",
    "# save to excel\n",
    "h2h.to_excel(f'{results_folder}/Head-to-Head.xlsx')\n",
    "h2h"
   ],
   "metadata": {
    "collapsed": false
   }
  },
  {
   "cell_type": "markdown",
   "source": [
    "Plot top x head-to-head matchups"
   ],
   "metadata": {
    "collapsed": false
   }
  },
  {
   "cell_type": "code",
   "execution_count": null,
   "outputs": [],
   "source": [
    "# filter top x win_pct and top 5 win_diff\n",
    "h2h_win_pct = h2h.sort_values('win_pct', ascending=False).head(3)\n",
    "h2h_win_diff = h2h.sort_values('win_diff', ascending=False).head(3)\n",
    "\n",
    "# filter bottom 5 win_pct and top 5 win_diff\n",
    "h2h_win_pct_l = h2h.sort_values('win_pct', ascending=True).head(3)\n",
    "h2h_win_diff_l = h2h.sort_values('win_diff', ascending=True).head(3)\n",
    "\n",
    "# concat the two dataframes without duplicates\n",
    "h2h_top = pd.concat([h2h_win_pct, h2h_win_diff, h2h_win_pct_l, h2h_win_diff_l])\n",
    "h2h_top = h2h_top.drop_duplicates()\n",
    "\n",
    "# plot wins on x-axis, losses on y-axis\n",
    "ax = h2h_top.plot(kind='scatter', x='loss', y='win', title='Wins vs. Losses', figsize=(10, 10))\n",
    "_ = ax.set_xlabel('Losses')\n",
    "_ = ax.set_ylabel('Wins')\n",
    "_ = ax.set_xticks(range(0, 11))\n",
    "_ = ax.set_yticks(range(0, 11))\n",
    "\n",
    "# add labels to each point with random offset to avoid overlapping\n",
    "import random\n",
    "for i, row in h2h_top.iterrows():\n",
    "    ax.annotate(row['Owner'] + ' vs. ' + row['Opponent_Owner'], (row['loss'], row['win'] + random.uniform(-0.3, 0.3)))\n",
    "\n",
    "\n",
    "# show diagonal line\n",
    "ax.plot([0, 10], [0, 10], color='red', linestyle='--', linewidth=1, alpha=0.5)\n"
   ],
   "metadata": {
    "collapsed": false
   }
  },
  {
   "cell_type": "code",
   "execution_count": null,
   "outputs": [],
   "source": [
    "h2h_top"
   ],
   "metadata": {
    "collapsed": false
   }
  },
  {
   "cell_type": "code",
   "execution_count": null,
   "outputs": [],
   "source": [],
   "metadata": {
    "collapsed": false
   }
  }
 ],
 "metadata": {
  "kernelspec": {
   "display_name": "Python 3",
   "language": "python",
   "name": "python3"
  },
  "language_info": {
   "codemirror_mode": {
    "name": "ipython",
    "version": 2
   },
   "file_extension": ".py",
   "mimetype": "text/x-python",
   "name": "python",
   "nbconvert_exporter": "python",
   "pygments_lexer": "ipython2",
   "version": "2.7.6"
  }
 },
 "nbformat": 4,
 "nbformat_minor": 0
}
